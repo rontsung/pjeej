{
 "cells": [
  {
   "cell_type": "code",
   "execution_count": 2,
   "metadata": {},
   "outputs": [],
   "source": [
    "import pandas as pd\n",
    "import numpy as np\n",
    "import matplotlib.pyplot as plt\n",
    "import csv"
   ]
  },
  {
   "cell_type": "code",
   "execution_count": 3,
   "metadata": {},
   "outputs": [
    {
     "data": {
      "text/html": [
       "<div>\n",
       "<style scoped>\n",
       "    .dataframe tbody tr th:only-of-type {\n",
       "        vertical-align: middle;\n",
       "    }\n",
       "\n",
       "    .dataframe tbody tr th {\n",
       "        vertical-align: top;\n",
       "    }\n",
       "\n",
       "    .dataframe thead th {\n",
       "        text-align: right;\n",
       "    }\n",
       "</style>\n",
       "<table border=\"1\" class=\"dataframe\">\n",
       "  <thead>\n",
       "    <tr style=\"text-align: right;\">\n",
       "      <th></th>\n",
       "      <th>Date</th>\n",
       "      <th>Day of Week</th>\n",
       "      <th>Time</th>\n",
       "      <th>Temp (F)</th>\n",
       "    </tr>\n",
       "  </thead>\n",
       "  <tbody>\n",
       "    <tr>\n",
       "      <th>0</th>\n",
       "      <td>1/09/2018</td>\n",
       "      <td>Tuesday</td>\n",
       "      <td>9:07</td>\n",
       "      <td>23.0</td>\n",
       "    </tr>\n",
       "    <tr>\n",
       "      <th>1</th>\n",
       "      <td>1/10/2018</td>\n",
       "      <td>Wednesday</td>\n",
       "      <td>8:58</td>\n",
       "      <td>21.0</td>\n",
       "    </tr>\n",
       "    <tr>\n",
       "      <th>2</th>\n",
       "      <td>1/11/2018</td>\n",
       "      <td>Thursday</td>\n",
       "      <td>9:00</td>\n",
       "      <td>39.0</td>\n",
       "    </tr>\n",
       "    <tr>\n",
       "      <th>3</th>\n",
       "      <td>1/12/2018</td>\n",
       "      <td>Friday</td>\n",
       "      <td>9:18</td>\n",
       "      <td>62.0</td>\n",
       "    </tr>\n",
       "    <tr>\n",
       "      <th>4</th>\n",
       "      <td>1/15/2018</td>\n",
       "      <td>Monday</td>\n",
       "      <td>8:09</td>\n",
       "      <td>22.0</td>\n",
       "    </tr>\n",
       "  </tbody>\n",
       "</table>\n",
       "</div>"
      ],
      "text/plain": [
       "        Date Day of Week  Time  Temp (F)\n",
       "0  1/09/2018     Tuesday  9:07      23.0\n",
       "1  1/10/2018   Wednesday  8:58      21.0\n",
       "2  1/11/2018    Thursday  9:00      39.0\n",
       "3  1/12/2018      Friday  9:18      62.0\n",
       "4  1/15/2018      Monday  8:09      22.0"
      ]
     },
     "execution_count": 3,
     "metadata": {},
     "output_type": "execute_result"
    }
   ],
   "source": [
    "df = pd.read_csv(\"timein.csv\")\n",
    "df.head()"
   ]
  },
  {
   "cell_type": "code",
   "execution_count": 4,
   "metadata": {},
   "outputs": [],
   "source": [
    "sec = 0\n",
    "totsec = 0\n",
    "eachday = {}\n",
    "daydiff = {}\n",
    "weekdiff = {}\n",
    "upavg = 0\n",
    "eachday[\"Monday\"],eachday[\"Tuesday\"],eachday[\"Wednesday\"],eachday[\"Thursday\"],eachday[\"Friday\"]= 0,0,0,0,0\n",
    "for day in eachday:\n",
    "    tt = df.loc[df[\"Day of Week\"] == day]\n",
    "    count = 0\n",
    "    upavg = 0\n",
    "    totsec2 = 0\n",
    "    for index, row in tt.iterrows():\n",
    "        count += 1\n",
    "        date = row[\"Date\"]\n",
    "        time = row[\"Time\"]\n",
    "        sec = int(time[0])*3600+int(time[2:])*60\n",
    "        totsec2 += sec\n",
    "        upavg = totsec2/count\n",
    "        weekdiff[date] = (sec - upavg)/60\n",
    "        eachday[day] += sec\n",
    "    eachday[day] = eachday[day]/len(tt)"
   ]
  },
  {
   "cell_type": "code",
   "execution_count": 5,
   "metadata": {},
   "outputs": [],
   "source": [
    "dts = {}\n",
    "for index, row in df.iterrows():\n",
    "    date = row[\"Date\"]\n",
    "    time = row[\"Time\"]\n",
    "    sec = int(time[0])*3600+int(time[2:])*60\n",
    "    totsec += sec\n",
    "    daydiff[date] = 0\n",
    "    upavg = totsec/len(daydiff)\n",
    "    daydiff[date] = (sec - upavg)/60\n",
    "    dts[date] = sec"
   ]
  },
  {
   "cell_type": "code",
   "execution_count": 6,
   "metadata": {},
   "outputs": [
    {
     "ename": "NameError",
     "evalue": "name 'ntimes2' is not defined",
     "output_type": "error",
     "traceback": [
      "\u001b[1;31m---------------------------------------------------------------------------\u001b[0m",
      "\u001b[1;31mNameError\u001b[0m                                 Traceback (most recent call last)",
      "\u001b[1;32m<ipython-input-6-4ebb82a9bf5d>\u001b[0m in \u001b[0;36m<module>\u001b[1;34m()\u001b[0m\n\u001b[0;32m      9\u001b[0m \u001b[1;33m\u001b[0m\u001b[0m\n\u001b[0;32m     10\u001b[0m \u001b[0mplt\u001b[0m\u001b[1;33m.\u001b[0m\u001b[0mhlines\u001b[0m\u001b[1;33m(\u001b[0m\u001b[0my\u001b[0m\u001b[1;33m=\u001b[0m\u001b[0mnew\u001b[0m\u001b[1;33m,\u001b[0m \u001b[0mxmin\u001b[0m\u001b[1;33m=\u001b[0m\u001b[1;36m0\u001b[0m\u001b[1;33m,\u001b[0m \u001b[0mxmax\u001b[0m\u001b[1;33m=\u001b[0m\u001b[1;36m5\u001b[0m\u001b[1;33m,\u001b[0m \u001b[0mcolor\u001b[0m\u001b[1;33m=\u001b[0m\u001b[1;34m\"grey\"\u001b[0m\u001b[1;33m)\u001b[0m\u001b[1;33m\u001b[0m\u001b[0m\n\u001b[1;32m---> 11\u001b[1;33m \u001b[0mplt\u001b[0m\u001b[1;33m.\u001b[0m\u001b[0myticks\u001b[0m\u001b[1;33m(\u001b[0m\u001b[0mntimes2\u001b[0m\u001b[1;33m,\u001b[0m \u001b[0mrtimes2\u001b[0m\u001b[1;33m)\u001b[0m\u001b[1;33m\u001b[0m\u001b[0m\n\u001b[0m\u001b[0;32m     12\u001b[0m \u001b[0mplt\u001b[0m\u001b[1;33m.\u001b[0m\u001b[0mtight_layout\u001b[0m\u001b[1;33m(\u001b[0m\u001b[1;33m)\u001b[0m\u001b[1;33m\u001b[0m\u001b[0m\n\u001b[0;32m     13\u001b[0m \u001b[1;33m\u001b[0m\u001b[0m\n",
      "\u001b[1;31mNameError\u001b[0m: name 'ntimes2' is not defined"
     ]
    },
    {
     "data": {
      "image/png": "[encoded data removed]",
      "text/plain": [
       "<matplotlib.figure.Figure at 0x177d8860>"
      ]
     },
     "metadata": {},
     "output_type": "display_data"
    }
   ],
   "source": [
    "plt.clf()\n",
    "new = totsec/(len(df))\n",
    "week = np.arange(5)\n",
    "plt.plot(week, [e for e in eachday.values()], '-o')\n",
    "plt.title(\"Weekly\")\n",
    "plt.ylabel(\"Time in\")\n",
    "plt.xlabel(\"Day of Week\")\n",
    "plt.xticks(week, [e for e in eachday.keys()], rotation = 25)\n",
    "\n",
    "plt.hlines(y=new, xmin=0, xmax=5, color=\"grey\")\n",
    "plt.yticks(ntimes2, rtimes2)\n",
    "plt.tight_layout()\n",
    "\n",
    "plt.show()"
   ]
  },
  {
   "cell_type": "code",
   "execution_count": null,
   "metadata": {
    "scrolled": true
   },
   "outputs": [],
   "source": [
    "plt.clf()\n",
    "dates = [e for e in dts.keys()]\n",
    "len_dates = len(dates)\n",
    "newmarks = []\n",
    "ndates = []\n",
    "k = 0\n",
    "interv = len(dates)/5-.1\n",
    "while k < len_dates:\n",
    "    newmarks.append(int(k))\n",
    "    ndates.append(dates[int(k)])\n",
    "    k+=interv\n",
    "xs = np.arange(len(dts))\n",
    "plt.plot(xs, [e for e in dts.values()], '-o')\n",
    "plt.title(\"Overall\")\n",
    "plt.ylabel(\"Time in\")\n",
    "plt.xlabel(\"Date\")\n",
    "plt.xticks(newmarks, ndates, rotation = 25)\n",
    "plt.yticks(ntimes, rtimes)\n",
    "plt.hlines(y=new, xmin=0, xmax=len(df), color=\"grey\")\n",
    "plt.tight_layout()\n",
    "# plt.show()\n",
    "plt.savefig(\"overall.png\")\n"
   ]
  },
  {
   "cell_type": "code",
   "execution_count": 7,
   "metadata": {},
   "outputs": [],
   "source": [
    "rtimes = [\"8:00\", \"8:20\", \"8:40\", \"9:00\", \"9:20\"]\n",
    "ntimes = [int(e[0])*3600+int(e[2:])*60 for e in rtimes]\n",
    "rtimes2 = [\"8:00\", \"8:15\", \"8:30\", \"8:45\", \"9:00\"]\n",
    "ntimes2 = [int(e[0])*3600+int(e[2:])*60 for e in rtimes]"
   ]
  },
  {
   "cell_type": "code",
   "execution_count": 8,
   "metadata": {},
   "outputs": [
    {
     "data": {
      "text/plain": [
       "{'Friday': '8:50',\n",
       " 'Monday': '8:28',\n",
       " 'Thursday': '8:57',\n",
       " 'Tuesday': '8:42',\n",
       " 'Wednesday': '8:53'}"
      ]
     },
     "execution_count": 8,
     "metadata": {},
     "output_type": "execute_result"
    }
   ],
   "source": [
    "render_days = {}\n",
    "for e in eachday:\n",
    "    day = eachday[e]\n",
    "    hr = str(day/3600)[0]\n",
    "    minu = str((day-int(hr)*3600)/60)\n",
    "    minu = minu[:minu.find(\".\")]\n",
    "    avg = hr+\":\"+minu\n",
    "    render_days[e] = avg\n",
    "render_days"
   ]
  },
  {
   "cell_type": "code",
   "execution_count": null,
   "metadata": {},
   "outputs": [],
   "source": []
  }
 ],
 "metadata": {
  "kernelspec": {
   "display_name": "Python 3",
   "language": "python",
   "name": "python3"
  },
  "language_info": {
   "codemirror_mode": {
    "name": "ipython",
    "version": 3
   },
   "file_extension": ".py",
   "mimetype": "text/x-python",
   "name": "python",
   "nbconvert_exporter": "python",
   "pygments_lexer": "ipython3",
   "version": "3.6.3"
  }
 },
 "nbformat": 4,
 "nbformat_minor": 2
}
